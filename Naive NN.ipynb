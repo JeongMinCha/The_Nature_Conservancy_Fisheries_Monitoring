{
 "cells": [
  {
   "cell_type": "code",
   "execution_count": 7,
   "metadata": {
    "collapsed": false
   },
   "outputs": [],
   "source": [
    "%matplotlib inline\n",
    "import matplotlib.image as mpimg\n",
    "import matplotlib.pyplot as plt"
   ]
  },
  {
   "cell_type": "code",
   "execution_count": 58,
   "metadata": {
    "collapsed": false
   },
   "outputs": [],
   "source": [
    "ALB = 'ALB'\n",
    "BET = 'BET'\n",
    "DOL = 'DOL'\n",
    "LAG = 'LAG'\n",
    "NoF = 'NoF'\n",
    "OTHER = 'OTHER'\n",
    "SHARK = 'SHARK'\n",
    "YFT = 'YFT'"
   ]
  },
  {
   "cell_type": "code",
   "execution_count": 61,
   "metadata": {
    "collapsed": false
   },
   "outputs": [],
   "source": [
    "c = {ALB: 0, BET: 1, DOL: 2, LAG: 3, NoF: 4, OTHER: 5, SHARK: 6, YFT: 7}"
   ]
  },
  {
   "cell_type": "code",
   "execution_count": 24,
   "metadata": {
    "collapsed": false
   },
   "outputs": [],
   "source": [
    "import os\n",
    "\n",
    "def load_images_from_folder(folder):\n",
    "    images = []\n",
    "    for filename in os.listdir(folder):\n",
    "        img = mpimg.imread(os.path.join(folder, filename))\n",
    "        if img is not None:\n",
    "            images.append(img)\n",
    "    return images"
   ]
  },
  {
   "cell_type": "code",
   "execution_count": 73,
   "metadata": {
    "collapsed": false
   },
   "outputs": [],
   "source": [
    "train = dict()\n",
    "for lab in list(c.keys()):\n",
    "    train[lab] = load_images_from_folder('train/' + lab)"
   ]
  },
  {
   "cell_type": "code",
   "execution_count": 70,
   "metadata": {
    "collapsed": false
   },
   "outputs": [],
   "source": [
    "label_train = dict()\n",
    "for lab in list(c.keys()):\n",
    "    for filename in os.listdir('train/' + lab):\n",
    "        label_train[int(filename[4:-4])] = c[lab]"
   ]
  },
  {
   "cell_type": "code",
   "execution_count": 37,
   "metadata": {
    "collapsed": true
   },
   "outputs": [],
   "source": [
    "def cross_validate(n_fold, train_data, val_data):\n",
    "    pass"
   ]
  },
  {
   "cell_type": "code",
   "execution_count": 47,
   "metadata": {
    "collapsed": true
   },
   "outputs": [],
   "source": [
    "import math \n",
    "\n",
    "def multi_class_log_loss(n_test, n_class, predicted, actual):\n",
    "    sum = 0\n",
    "    for i in range(n_test):\n",
    "        for c in range(n_class):\n",
    "            if actual[i][c] == 1:\n",
    "                sum += actual[i][c] * math.log(predicted[i][c])\n",
    "    return - (1/n_test) * sum"
   ]
  },
  {
   "cell_type": "code",
   "execution_count": null,
   "metadata": {
    "collapsed": true
   },
   "outputs": [],
   "source": []
  }
 ],
 "metadata": {
  "kernelspec": {
   "display_name": "Python 3",
   "language": "python",
   "name": "python3"
  },
  "language_info": {
   "codemirror_mode": {
    "name": "ipython",
    "version": 3
   },
   "file_extension": ".py",
   "mimetype": "text/x-python",
   "name": "python",
   "nbconvert_exporter": "python",
   "pygments_lexer": "ipython3",
   "version": "3.5.2"
  }
 },
 "nbformat": 4,
 "nbformat_minor": 0
}
