{
 "cells": [
  {
   "cell_type": "code",
   "execution_count": 7,
   "metadata": {
    "collapsed": false
   },
   "outputs": [],
   "source": [
    "%matplotlib inline\n",
    "import matplotlib.image as mpimg\n",
    "import matplotlib.pyplot as plt"
   ]
  },
  {
   "cell_type": "code",
   "execution_count": 23,
   "metadata": {
    "collapsed": false
   },
   "outputs": [],
   "source": [
    "ALB = 'ALB'\n",
    "BET = 'BET'\n",
    "DOL = 'DOL'\n",
    "LAG = 'LAG'\n",
    "NoF = 'NoF'\n",
    "OTHER = 'OTHER'\n",
    "SHARK = 'SHARK'\n",
    "YFT = 'YFT'"
   ]
  },
  {
   "cell_type": "code",
   "execution_count": 24,
   "metadata": {
    "collapsed": false
   },
   "outputs": [],
   "source": [
    "import os\n",
    "\n",
    "def load_images_from_folder(folder):\n",
    "    images = []\n",
    "    for filename in os.listdir(folder):\n",
    "        img = mpimg.imread(os.path.join(folder, filename))\n",
    "        if img is not None:\n",
    "            images.append(img)\n",
    "    return images"
   ]
  },
  {
   "cell_type": "code",
   "execution_count": 28,
   "metadata": {
    "collapsed": true
   },
   "outputs": [],
   "source": [
    "train = dict()\n",
    "train[ALB] = load_images_from_folder('train/' + ALB)\n",
    "train[BET] = load_images_from_folder('train/' + BET)\n",
    "train[DOL] = load_images_from_folder('train/' + DOL)\n",
    "train[LAG] = load_images_from_folder('train/' + LAG)\n",
    "train[NoF] = load_images_from_folder('train/' + NoF)\n",
    "train[OTHER] = load_images_from_folder('train/' + OTHER)\n",
    "train[SHARK] = load_images_from_folder('train/' + SHARK)\n",
    "train[YFT] = load_images_from_folder('train/' + YFT)"
   ]
  },
  {
   "cell_type": "code",
   "execution_count": null,
   "metadata": {
    "collapsed": true
   },
   "outputs": [],
   "source": []
  }
 ],
 "metadata": {
  "kernelspec": {
   "display_name": "Python 3",
   "language": "python",
   "name": "python3"
  },
  "language_info": {
   "codemirror_mode": {
    "name": "ipython",
    "version": 3
   },
   "file_extension": ".py",
   "mimetype": "text/x-python",
   "name": "python",
   "nbconvert_exporter": "python",
   "pygments_lexer": "ipython3",
   "version": "3.5.2"
  }
 },
 "nbformat": 4,
 "nbformat_minor": 0
}
